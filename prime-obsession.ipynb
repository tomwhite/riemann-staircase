{
 "cells": [
  {
   "cell_type": "markdown",
   "id": "fe76a769",
   "metadata": {},
   "source": [
    "# Prime Obsession\n",
    "\n",
    "A notebook to reproduce a few results from \"Prime Obsession\" by John Derbyshire.\n",
    "\n",
    "The key equation (from p328) is:\n",
    "$$\n",
    "\\begin{equation}\n",
    "\\large{J(x) = Li(x) - \\sum_{\\rho} x^\\rho - \\log{2} + \\int_x^\\infty \\frac{\\mathrm{d}t}{t(t^2 - 1)\\log{t}}}\n",
    "\\end{equation}\n",
    "$$"
   ]
  },
  {
   "cell_type": "markdown",
   "id": "40fd6e74",
   "metadata": {},
   "source": [
    "Start with the imports for the libraries we are using:"
   ]
  },
  {
   "cell_type": "code",
   "execution_count": 2,
   "id": "73448336",
   "metadata": {},
   "outputs": [],
   "source": [
    "from mpmath import *\n",
    "import pandas as pd\n",
    "from sympy import mobius\n",
    "from tqdm.notebook import trange\n",
    "mp.dps = 30; mp.pretty = True"
   ]
  },
  {
   "cell_type": "markdown",
   "id": "2c695320",
   "metadata": {},
   "source": [
    "We use a slightly different definition of the logarithmic integral to `li` defined in `mpmath` (and Mathematica) - see note 128 on p390."
   ]
  },
  {
   "cell_type": "code",
   "execution_count": 6,
   "id": "b2f7ebde",
   "metadata": {},
   "outputs": [],
   "source": [
    "def Li(x, rho=1):\n",
    "    return ei(rho * log(x))"
   ]
  },
  {
   "cell_type": "markdown",
   "id": "9ead9836",
   "metadata": {},
   "source": [
    "# Calculating $J(20)$"
   ]
  },
  {
   "cell_type": "markdown",
   "id": "7f4474e8",
   "metadata": {},
   "source": [
    "Pages 333 to 343 go through the calculation of $J(20)$. The secondary term is the part that requires the most work. Page 340 has a table of the logarithmic integral for the first 50 pairs of zeros, reproduced here:"
   ]
  },
  {
   "cell_type": "code",
   "execution_count": 10,
   "id": "9b10f6d6",
   "metadata": {},
   "outputs": [
    {
     "name": "stdout",
     "output_type": "stream",
     "text": [
      "-0.210768\n",
      "0.0215632\n",
      "-0.0535991\n",
      "-0.00432174\n",
      "-0.0868451\n",
      "-0.037716\n",
      "-0.0046281\n",
      "-0.0577894\n",
      "-0.0400277\n",
      "-0.0595976\n",
      "0.0563226\n",
      "-0.0274298\n",
      "0.0481966\n",
      "0.00127986\n",
      "0.0128283\n",
      "-0.00472225\n",
      "0.0361164\n",
      "0.0317626\n",
      "0.0222196\n",
      "-0.037927\n",
      "-0.0332852\n",
      "-0.00692417\n",
      "0.0205354\n",
      "-0.0312052\n",
      "0.0280167\n",
      "0.0188243\n",
      "0.0228139\n",
      "-0.0301646\n",
      "0.0208943\n",
      "0.0275883\n",
      "0.00801349\n",
      "0.0279464\n",
      "0.0159041\n",
      "-0.0102871\n",
      "0.0224912\n",
      "-0.00106082\n",
      "0.0130158\n",
      "-0.0191586\n",
      "-0.018169\n",
      "-0.0165671\n",
      "0.0240114\n",
      "-0.0223427\n",
      "-0.0225924\n",
      "-0.000132221\n",
      "-0.0180932\n",
      "0.0221559\n",
      "-0.017333\n",
      "-0.0150514\n",
      "0.0206192\n",
      "0.0207551\n"
     ]
    }
   ],
   "source": [
    "for i in range(1, 51):\n",
    "    z = zetazero(i)\n",
    "    a = Li(20, z) + Li(20, z.conjugate())\n",
    "    nprint(a.real, 6)"
   ]
  },
  {
   "cell_type": "markdown",
   "id": "06d7c921",
   "metadata": {},
   "source": [
    "As Derbyshire says on p342 you have to add up thousands of terms to get a few decimal places of accuracy.\n",
    "Using `zetazero` is slow, so we can use [Andrew Odlyzko's tables of zeros](http://www.dtc.umn.edu/~odlyzko/zeta_tables/index.html) instead."
   ]
  },
  {
   "cell_type": "code",
   "execution_count": 18,
   "id": "465fa15e",
   "metadata": {},
   "outputs": [
    {
     "data": {
      "text/plain": [
       "[(0.5 + 14.1347251420000006305599526968j),\n",
       " (0.5 + 21.0220396389999990560681908391j),\n",
       " (0.5 + 25.0108575799999997002487361897j),\n",
       " (0.5 + 30.4248761260000009087889338844j),\n",
       " (0.5 + 32.9350615880000034962904464919j),\n",
       " (0.5 + 37.5861781589999992547745932825j),\n",
       " (0.5 + 40.9187190119999968374031595886j),\n",
       " (0.5 + 43.3270732809999969958880683407j),\n",
       " (0.5 + 48.0051508809999987192895787302j),\n",
       " (0.5 + 49.77383247800000276583887171j)]"
      ]
     },
     "execution_count": 18,
     "metadata": {},
     "output_type": "execute_result"
    }
   ],
   "source": [
    "import gzip\n",
    "\n",
    "with gzip.open(\"data/zeros6.gz\", \"rt\") as f:\n",
    "    lines = f.readlines()\n",
    "zetazeros = [mpc(0.5, float(s.strip())) for s in lines]\n",
    "zetazeros[:10]"
   ]
  },
  {
   "cell_type": "code",
   "execution_count": 28,
   "id": "6ef99044",
   "metadata": {},
   "outputs": [
    {
     "data": {
      "application/vnd.jupyter.widget-view+json": {
       "model_id": "9ca91ba25cca401c8edad49b1a6e9669",
       "version_major": 2,
       "version_minor": 0
      },
      "text/plain": [
       "  0%|          | 0/86000 [00:00<?, ?it/s]"
      ]
     },
     "metadata": {},
     "output_type": "display_data"
    },
    {
     "name": "stdout",
     "output_type": "stream",
     "text": [
      "-0.370822\n",
      "CPU times: user 14.5 s, sys: 209 ms, total: 14.7 s\n",
      "Wall time: 14.6 s\n"
     ]
    }
   ],
   "source": [
    "%%time\n",
    "sec = 0\n",
    "for i in trange(86000):\n",
    "    z = zetazeros[i]\n",
    "    a = Li(20, z) + Li(20, z.conjugate())\n",
    "    sec += a\n",
    "nprint(sec.real, 6)"
   ]
  },
  {
   "cell_type": "markdown",
   "id": "35e79ad0",
   "metadata": {},
   "source": [
    "We can calculate the other terms to find the value of $J(20)$:"
   ]
  },
  {
   "cell_type": "code",
   "execution_count": 29,
   "id": "6005b6e8",
   "metadata": {},
   "outputs": [
    {
     "name": "stdout",
     "output_type": "stream",
     "text": [
      "9.5833\n"
     ]
    }
   ],
   "source": [
    "J20 = Li(20) - sec.real - log(2) + quad(lambda t: 1/(t*(t*t-1)*log(t)), [20, inf])\n",
    "nprint(J20, 5)"
   ]
  },
  {
   "cell_type": "markdown",
   "id": "c3868ebb",
   "metadata": {},
   "source": [
    "This is the same as the result on p343."
   ]
  },
  {
   "cell_type": "markdown",
   "id": "d0f4fe2d",
   "metadata": {},
   "source": [
    "# Calculating $\\pi(1,000,000)$"
   ]
  },
  {
   "cell_type": "markdown",
   "id": "15e224b3",
   "metadata": {},
   "source": [
    "Pages 343 and 344 have a calculation for $\\pi(1,000,000)$, using the formula:\n",
    "\n",
    "$$\n",
    "\\begin{equation}\n",
    "\\large{\\pi(x) = \\sum_{N} \\frac{\\mu(N)}{N}J(\\sqrt[N]{x})}\n",
    "\\end{equation}\n",
    "$$\n",
    "\n",
    "This series is finite, since $\\sqrt[n]{x} < 2$ for large enough $n$, and $J(x) = 0$ for $x < 2$."
   ]
  },
  {
   "cell_type": "code",
   "execution_count": 30,
   "id": "0981a74f",
   "metadata": {},
   "outputs": [],
   "source": [
    "x = 1000000"
   ]
  },
  {
   "cell_type": "markdown",
   "id": "efdb333a",
   "metadata": {},
   "source": [
    "Define a helper function that yields values of $N$ (and $y = \\sqrt[N]{x}$) for which $y$ is at least 2, and the Möbius function is non-zero:"
   ]
  },
  {
   "cell_type": "code",
   "execution_count": 32,
   "id": "a2d549d8",
   "metadata": {},
   "outputs": [
    {
     "data": {
      "text/plain": [
       "[(1, 1000000),\n",
       " (2, 1000.0),\n",
       " (3, 99.99999999999997),\n",
       " (5, 15.848931924611136),\n",
       " (6, 9.999999999999998),\n",
       " (7, 7.196856730011519),\n",
       " (10, 3.9810717055349727),\n",
       " (11, 3.5111917342151315),\n",
       " (13, 2.894266124716751),\n",
       " (14, 2.6826957952797255),\n",
       " (15, 2.51188643150958),\n",
       " (17, 2.2539339047347906),\n",
       " (19, 2.0691380811147897)]"
      ]
     },
     "execution_count": 32,
     "metadata": {},
     "output_type": "execute_result"
    }
   ],
   "source": [
    "def Ns(x):\n",
    "    N = 1\n",
    "    y = x\n",
    "    while y >= 2:\n",
    "        if mobius(N) != 0:\n",
    "            yield N, y\n",
    "        N += 1\n",
    "        y = x ** (1/N)\n",
    "list(Ns(x))"
   ]
  },
  {
   "cell_type": "markdown",
   "id": "957c0642",
   "metadata": {},
   "source": [
    "Now we can reproduce Table 21-1 on p344.\n",
    "\n",
    "First, let's calculate the secondary terms, since those are the most compute intensive."
   ]
  },
  {
   "cell_type": "code",
   "execution_count": 57,
   "id": "74a19e23",
   "metadata": {},
   "outputs": [
    {
     "data": {
      "application/vnd.jupyter.widget-view+json": {
       "model_id": "1d9b0f4ce4bf4f61a9fe32eab36eb681",
       "version_major": 2,
       "version_minor": 0
      },
      "text/plain": [
       "  0%|          | 0/2001052 [00:00<?, ?it/s]"
      ]
     },
     "metadata": {},
     "output_type": "display_data"
    },
    {
     "name": "stdout",
     "output_type": "stream",
     "text": [
      "-29.832\n"
     ]
    },
    {
     "data": {
      "application/vnd.jupyter.widget-view+json": {
       "model_id": "8c3aa5c0b50c484985906bfb55c6eaff",
       "version_major": 2,
       "version_minor": 0
      },
      "text/plain": [
       "  0%|          | 0/2001052 [00:00<?, ?it/s]"
      ]
     },
     "metadata": {},
     "output_type": "display_data"
    },
    {
     "name": "stdout",
     "output_type": "stream",
     "text": [
      "0.11036\n"
     ]
    },
    {
     "data": {
      "application/vnd.jupyter.widget-view+json": {
       "model_id": "d296a9972ed2482f9f58fadef5155c8b",
       "version_major": 2,
       "version_minor": 0
      },
      "text/plain": [
       "  0%|          | 0/2001052 [00:00<?, ?it/s]"
      ]
     },
     "metadata": {},
     "output_type": "display_data"
    },
    {
     "name": "stdout",
     "output_type": "stream",
     "text": [
      "0.2999\n"
     ]
    },
    {
     "data": {
      "application/vnd.jupyter.widget-view+json": {
       "model_id": "7534be7b25154870adb8945ca9086457",
       "version_major": 2,
       "version_minor": 0
      },
      "text/plain": [
       "  0%|          | 0/2001052 [00:00<?, ?it/s]"
      ]
     },
     "metadata": {},
     "output_type": "display_data"
    },
    {
     "name": "stdout",
     "output_type": "stream",
     "text": [
      "0.087854\n"
     ]
    },
    {
     "data": {
      "application/vnd.jupyter.widget-view+json": {
       "model_id": "9ac2717d6b404fc4908ae606942a24e0",
       "version_major": 2,
       "version_minor": 0
      },
      "text/plain": [
       "  0%|          | 0/2001052 [00:00<?, ?it/s]"
      ]
     },
     "metadata": {},
     "output_type": "display_data"
    },
    {
     "name": "stdout",
     "output_type": "stream",
     "text": [
      "-0.023493\n"
     ]
    },
    {
     "data": {
      "application/vnd.jupyter.widget-view+json": {
       "model_id": "7234f14ca8c74d4d9943961a35109776",
       "version_major": 2,
       "version_minor": 0
      },
      "text/plain": [
       "  0%|          | 0/2001052 [00:00<?, ?it/s]"
      ]
     },
     "metadata": {},
     "output_type": "display_data"
    },
    {
     "name": "stdout",
     "output_type": "stream",
     "text": [
      "-0.047367\n"
     ]
    },
    {
     "data": {
      "application/vnd.jupyter.widget-view+json": {
       "model_id": "0a62c6ea7e974184b3bb93004211f8c0",
       "version_major": 2,
       "version_minor": 0
      },
      "text/plain": [
       "  0%|          | 0/2001052 [00:00<?, ?it/s]"
      ]
     },
     "metadata": {},
     "output_type": "display_data"
    },
    {
     "name": "stdout",
     "output_type": "stream",
     "text": [
      "-0.027906\n"
     ]
    },
    {
     "data": {
      "application/vnd.jupyter.widget-view+json": {
       "model_id": "a6744f091dd14a0a8dbe6e71ee6bf110",
       "version_major": 2,
       "version_minor": 0
      },
      "text/plain": [
       "  0%|          | 0/2001052 [00:00<?, ?it/s]"
      ]
     },
     "metadata": {},
     "output_type": "display_data"
    },
    {
     "name": "stdout",
     "output_type": "stream",
     "text": [
      "-0.0063405\n"
     ]
    },
    {
     "data": {
      "application/vnd.jupyter.widget-view+json": {
       "model_id": "fa76e7ffad2d430f8e1df31210313fac",
       "version_major": 2,
       "version_minor": 0
      },
      "text/plain": [
       "  0%|          | 0/2001052 [00:00<?, ?it/s]"
      ]
     },
     "metadata": {},
     "output_type": "display_data"
    },
    {
     "name": "stdout",
     "output_type": "stream",
     "text": [
      "0.032062\n"
     ]
    },
    {
     "data": {
      "application/vnd.jupyter.widget-view+json": {
       "model_id": "1945fedf92794a26ac1832201e638d64",
       "version_major": 2,
       "version_minor": 0
      },
      "text/plain": [
       "  0%|          | 0/2001052 [00:00<?, ?it/s]"
      ]
     },
     "metadata": {},
     "output_type": "display_data"
    },
    {
     "name": "stdout",
     "output_type": "stream",
     "text": [
      "-0.01581\n"
     ]
    },
    {
     "data": {
      "application/vnd.jupyter.widget-view+json": {
       "model_id": "a7135b008ed34ca191380b28829a166f",
       "version_major": 2,
       "version_minor": 0
      },
      "text/plain": [
       "  0%|          | 0/2001052 [00:00<?, ?it/s]"
      ]
     },
     "metadata": {},
     "output_type": "display_data"
    },
    {
     "name": "stdout",
     "output_type": "stream",
     "text": [
      "-0.0036218\n"
     ]
    },
    {
     "data": {
      "application/vnd.jupyter.widget-view+json": {
       "model_id": "c4b34bfe1ec248d78408fd154e350c18",
       "version_major": 2,
       "version_minor": 0
      },
      "text/plain": [
       "  0%|          | 0/2001052 [00:00<?, ?it/s]"
      ]
     },
     "metadata": {},
     "output_type": "display_data"
    },
    {
     "name": "stdout",
     "output_type": "stream",
     "text": [
      "-0.012723\n"
     ]
    },
    {
     "data": {
      "application/vnd.jupyter.widget-view+json": {
       "model_id": "790316ed8a3e4e3894c971b9d6e18222",
       "version_major": 2,
       "version_minor": 0
      },
      "text/plain": [
       "  0%|          | 0/2001052 [00:00<?, ?it/s]"
      ]
     },
     "metadata": {},
     "output_type": "display_data"
    },
    {
     "name": "stdout",
     "output_type": "stream",
     "text": [
      "-0.022414\n",
      "CPU times: user 1h 13min 57s, sys: 58.4 s, total: 1h 14min 55s\n",
      "Wall time: 1h 14min 50s\n"
     ]
    }
   ],
   "source": [
    "%%time\n",
    "secondary_terms = []\n",
    "for N, y in Ns(x):\n",
    "    sec = 0\n",
    "    for i in trange(len(zetazeros)):\n",
    "        z = zetazeros[i]\n",
    "        a = Li(y, z) + Li(y, z.conjugate())\n",
    "        sec += a\n",
    "    sec = -mobius(N) * sec.real / N\n",
    "    nprint(sec, 5)\n",
    "    secondary_terms.append(sec)"
   ]
  },
  {
   "cell_type": "code",
   "execution_count": 58,
   "id": "d168972d",
   "metadata": {},
   "outputs": [],
   "source": [
    "N_values = []\n",
    "principal_terms = []\n",
    "log2_terms = []\n",
    "integral_terms = []\n",
    "for N, y in Ns(x):\n",
    "    N_values.append(N)\n",
    "    principal_terms.append(mobius(N) * Li(y) / N)\n",
    "    log2_terms.append(-mobius(N) * log(2) / N)\n",
    "    integral_terms.append(mobius(N) * quad(lambda t: 1/(t*(t*t-1)*log(t)), [y, inf]) / N)"
   ]
  },
  {
   "cell_type": "code",
   "execution_count": 77,
   "id": "5b96099a",
   "metadata": {},
   "outputs": [
    {
     "data": {
      "text/html": [
       "<style type=\"text/css\">\n",
       "</style>\n",
       "<table id=\"T_5bc32_\">\n",
       "  <thead>\n",
       "    <tr>\n",
       "      <th class=\"blank level0\" >&nbsp;</th>\n",
       "      <th class=\"col_heading level0 col0\" >Principal term</th>\n",
       "      <th class=\"col_heading level0 col1\" >Secondary term</th>\n",
       "      <th class=\"col_heading level0 col2\" >Log 2 term</th>\n",
       "      <th class=\"col_heading level0 col3\" >Integral term</th>\n",
       "      <th class=\"col_heading level0 col4\" >Row totals</th>\n",
       "    </tr>\n",
       "    <tr>\n",
       "      <th class=\"index_name level0\" >N</th>\n",
       "      <th class=\"blank col0\" >&nbsp;</th>\n",
       "      <th class=\"blank col1\" >&nbsp;</th>\n",
       "      <th class=\"blank col2\" >&nbsp;</th>\n",
       "      <th class=\"blank col3\" >&nbsp;</th>\n",
       "      <th class=\"blank col4\" >&nbsp;</th>\n",
       "    </tr>\n",
       "  </thead>\n",
       "  <tbody>\n",
       "    <tr>\n",
       "      <th id=\"T_5bc32_level0_row0\" class=\"row_heading level0 row0\" >1</th>\n",
       "      <td id=\"T_5bc32_row0_col0\" class=\"data row0 col0\" >78627.54916</td>\n",
       "      <td id=\"T_5bc32_row0_col1\" class=\"data row0 col1\" >-29.83162</td>\n",
       "      <td id=\"T_5bc32_row0_col2\" class=\"data row0 col2\" >-0.69315</td>\n",
       "      <td id=\"T_5bc32_row0_col3\" class=\"data row0 col3\" >0.00000</td>\n",
       "      <td id=\"T_5bc32_row0_col4\" class=\"data row0 col4\" >78597.02440</td>\n",
       "    </tr>\n",
       "    <tr>\n",
       "      <th id=\"T_5bc32_level0_row1\" class=\"row_heading level0 row1\" >2</th>\n",
       "      <td id=\"T_5bc32_row1_col0\" class=\"data row1 col0\" >-88.80483</td>\n",
       "      <td id=\"T_5bc32_row1_col1\" class=\"data row1 col1\" >0.11036</td>\n",
       "      <td id=\"T_5bc32_row1_col2\" class=\"data row1 col2\" >0.34657</td>\n",
       "      <td id=\"T_5bc32_row1_col3\" class=\"data row1 col3\" >-0.00000</td>\n",
       "      <td id=\"T_5bc32_row1_col4\" class=\"data row1 col4\" >-88.34789</td>\n",
       "    </tr>\n",
       "    <tr>\n",
       "      <th id=\"T_5bc32_level0_row2\" class=\"row_heading level0 row2\" >3</th>\n",
       "      <td id=\"T_5bc32_row2_col0\" class=\"data row2 col0\" >-10.04205</td>\n",
       "      <td id=\"T_5bc32_row2_col1\" class=\"data row2 col1\" >0.29990</td>\n",
       "      <td id=\"T_5bc32_row2_col2\" class=\"data row2 col2\" >0.23105</td>\n",
       "      <td id=\"T_5bc32_row2_col3\" class=\"data row2 col3\" >-0.00000</td>\n",
       "      <td id=\"T_5bc32_row2_col4\" class=\"data row2 col4\" >-9.51110</td>\n",
       "    </tr>\n",
       "    <tr>\n",
       "      <th id=\"T_5bc32_level0_row3\" class=\"row_heading level0 row3\" >5</th>\n",
       "      <td id=\"T_5bc32_row3_col0\" class=\"data row3 col0\" >-1.69303</td>\n",
       "      <td id=\"T_5bc32_row3_col1\" class=\"data row3 col1\" >0.08785</td>\n",
       "      <td id=\"T_5bc32_row3_col2\" class=\"data row3 col2\" >0.13863</td>\n",
       "      <td id=\"T_5bc32_row3_col3\" class=\"data row3 col3\" >-0.00012</td>\n",
       "      <td id=\"T_5bc32_row3_col4\" class=\"data row3 col4\" >-1.46667</td>\n",
       "    </tr>\n",
       "    <tr>\n",
       "      <th id=\"T_5bc32_level0_row4\" class=\"row_heading level0 row4\" >6</th>\n",
       "      <td id=\"T_5bc32_row4_col0\" class=\"data row4 col0\" >1.02760</td>\n",
       "      <td id=\"T_5bc32_row4_col1\" class=\"data row4 col1\" >-0.02349</td>\n",
       "      <td id=\"T_5bc32_row4_col2\" class=\"data row4 col2\" >-0.11552</td>\n",
       "      <td id=\"T_5bc32_row4_col3\" class=\"data row4 col3\" >0.00031</td>\n",
       "      <td id=\"T_5bc32_row4_col4\" class=\"data row4 col4\" >0.88889</td>\n",
       "    </tr>\n",
       "    <tr>\n",
       "      <th id=\"T_5bc32_level0_row5\" class=\"row_heading level0 row5\" >7</th>\n",
       "      <td id=\"T_5bc32_row5_col0\" class=\"data row5 col0\" >-0.69393</td>\n",
       "      <td id=\"T_5bc32_row5_col1\" class=\"data row5 col1\" >-0.04737</td>\n",
       "      <td id=\"T_5bc32_row5_col2\" class=\"data row5 col2\" >0.09902</td>\n",
       "      <td id=\"T_5bc32_row5_col3\" class=\"data row5 col3\" >-0.00058</td>\n",
       "      <td id=\"T_5bc32_row5_col4\" class=\"data row5 col4\" >-0.64286</td>\n",
       "    </tr>\n",
       "    <tr>\n",
       "      <th id=\"T_5bc32_level0_row6\" class=\"row_heading level0 row6\" >10</th>\n",
       "      <td id=\"T_5bc32_row6_col0\" class=\"data row6 col0\" >0.29539</td>\n",
       "      <td id=\"T_5bc32_row6_col1\" class=\"data row6 col1\" >-0.02791</td>\n",
       "      <td id=\"T_5bc32_row6_col2\" class=\"data row6 col2\" >-0.06931</td>\n",
       "      <td id=\"T_5bc32_row6_col3\" class=\"data row6 col3\" >0.00183</td>\n",
       "      <td id=\"T_5bc32_row6_col4\" class=\"data row6 col4\" >0.20000</td>\n",
       "    </tr>\n",
       "    <tr>\n",
       "      <th id=\"T_5bc32_level0_row7\" class=\"row_heading level0 row7\" >11</th>\n",
       "      <td id=\"T_5bc32_row7_col0\" class=\"data row7 col0\" >-0.23615</td>\n",
       "      <td id=\"T_5bc32_row7_col1\" class=\"data row7 col1\" >-0.00634</td>\n",
       "      <td id=\"T_5bc32_row7_col2\" class=\"data row7 col2\" >0.06301</td>\n",
       "      <td id=\"T_5bc32_row7_col3\" class=\"data row7 col3\" >-0.00234</td>\n",
       "      <td id=\"T_5bc32_row7_col4\" class=\"data row7 col4\" >-0.18182</td>\n",
       "    </tr>\n",
       "    <tr>\n",
       "      <th id=\"T_5bc32_level0_row8\" class=\"row_heading level0 row8\" >13</th>\n",
       "      <td id=\"T_5bc32_row8_col0\" class=\"data row8 col0\" >-0.15890</td>\n",
       "      <td id=\"T_5bc32_row8_col1\" class=\"data row8 col1\" >0.03206</td>\n",
       "      <td id=\"T_5bc32_row8_col2\" class=\"data row8 col2\" >0.05332</td>\n",
       "      <td id=\"T_5bc32_row8_col3\" class=\"data row8 col3\" >-0.00340</td>\n",
       "      <td id=\"T_5bc32_row8_col4\" class=\"data row8 col4\" >-0.07692</td>\n",
       "    </tr>\n",
       "    <tr>\n",
       "      <th id=\"T_5bc32_level0_row9\" class=\"row_heading level0 row9\" >14</th>\n",
       "      <td id=\"T_5bc32_row9_col0\" class=\"data row9 col0\" >0.13281</td>\n",
       "      <td id=\"T_5bc32_row9_col1\" class=\"data row9 col1\" >-0.01581</td>\n",
       "      <td id=\"T_5bc32_row9_col2\" class=\"data row9 col2\" >-0.04951</td>\n",
       "      <td id=\"T_5bc32_row9_col3\" class=\"data row9 col3\" >0.00394</td>\n",
       "      <td id=\"T_5bc32_row9_col4\" class=\"data row9 col4\" >0.07143</td>\n",
       "    </tr>\n",
       "    <tr>\n",
       "      <th id=\"T_5bc32_level0_row10\" class=\"row_heading level0 row10\" >15</th>\n",
       "      <td id=\"T_5bc32_row10_col0\" class=\"data row10 col0\" >0.11202</td>\n",
       "      <td id=\"T_5bc32_row10_col1\" class=\"data row10 col1\" >-0.00362</td>\n",
       "      <td id=\"T_5bc32_row10_col2\" class=\"data row10 col2\" >-0.04621</td>\n",
       "      <td id=\"T_5bc32_row10_col3\" class=\"data row10 col3\" >0.00448</td>\n",
       "      <td id=\"T_5bc32_row10_col4\" class=\"data row10 col4\" >0.06667</td>\n",
       "    </tr>\n",
       "    <tr>\n",
       "      <th id=\"T_5bc32_level0_row11\" class=\"row_heading level0 row11\" >17</th>\n",
       "      <td id=\"T_5bc32_row11_col0\" class=\"data row11 col0\" >-0.08133</td>\n",
       "      <td id=\"T_5bc32_row11_col1\" class=\"data row11 col1\" >-0.01272</td>\n",
       "      <td id=\"T_5bc32_row11_col2\" class=\"data row11 col2\" >0.04077</td>\n",
       "      <td id=\"T_5bc32_row11_col3\" class=\"data row11 col3\" >-0.00554</td>\n",
       "      <td id=\"T_5bc32_row11_col4\" class=\"data row11 col4\" >-0.05882</td>\n",
       "    </tr>\n",
       "    <tr>\n",
       "      <th id=\"T_5bc32_level0_row12\" class=\"row_heading level0 row12\" >19</th>\n",
       "      <td id=\"T_5bc32_row12_col0\" class=\"data row12 col0\" >-0.06013</td>\n",
       "      <td id=\"T_5bc32_row12_col1\" class=\"data row12 col1\" >-0.02241</td>\n",
       "      <td id=\"T_5bc32_row12_col2\" class=\"data row12 col2\" >0.03648</td>\n",
       "      <td id=\"T_5bc32_row12_col3\" class=\"data row12 col3\" >-0.00657</td>\n",
       "      <td id=\"T_5bc32_row12_col4\" class=\"data row12 col4\" >-0.05263</td>\n",
       "    </tr>\n",
       "  </tbody>\n",
       "</table>\n"
      ],
      "text/plain": [
       "<pandas.io.formats.style.Styler at 0x7fef1ad34c90>"
      ]
     },
     "execution_count": 77,
     "metadata": {},
     "output_type": "execute_result"
    }
   ],
   "source": [
    "d = {\n",
    "    \"N\": N_values,\n",
    "    \"Principal term\": principal_terms,\n",
    "    \"Secondary term\": secondary_terms,\n",
    "    \"Log 2 term\": log2_terms,\n",
    "    \"Integral term\": integral_terms\n",
    "}\n",
    "df = pd.DataFrame(d).set_index(\"N\")\n",
    "df[\"Row totals\"] = df[\"Principal term\"] + df[\"Secondary term\"] + df[\"Log 2 term\"] + df[\"Integral term\"]\n",
    "df = df.astype(float)\n",
    "df.style.format(precision=5)"
   ]
  },
  {
   "cell_type": "code",
   "execution_count": 78,
   "id": "d62e181d",
   "metadata": {},
   "outputs": [
    {
     "data": {
      "text/html": [
       "<style type=\"text/css\">\n",
       "</style>\n",
       "<table id=\"T_cf5d3_\">\n",
       "  <thead>\n",
       "    <tr>\n",
       "      <th class=\"blank level0\" >&nbsp;</th>\n",
       "      <th class=\"col_heading level0 col0\" >Column totals</th>\n",
       "    </tr>\n",
       "  </thead>\n",
       "  <tbody>\n",
       "    <tr>\n",
       "      <th id=\"T_cf5d3_level0_row0\" class=\"row_heading level0 row0\" >Principal term</th>\n",
       "      <td id=\"T_cf5d3_row0_col0\" class=\"data row0 col0\" >78527.34662</td>\n",
       "    </tr>\n",
       "    <tr>\n",
       "      <th id=\"T_cf5d3_level0_row1\" class=\"row_heading level0 row1\" >Secondary term</th>\n",
       "      <td id=\"T_cf5d3_row1_col0\" class=\"data row1 col0\" >-29.46111</td>\n",
       "    </tr>\n",
       "    <tr>\n",
       "      <th id=\"T_cf5d3_level0_row2\" class=\"row_heading level0 row2\" >Log 2 term</th>\n",
       "      <td id=\"T_cf5d3_row2_col0\" class=\"data row2 col0\" >0.03515</td>\n",
       "    </tr>\n",
       "    <tr>\n",
       "      <th id=\"T_cf5d3_level0_row3\" class=\"row_heading level0 row3\" >Integral term</th>\n",
       "      <td id=\"T_cf5d3_row3_col0\" class=\"data row3 col0\" >-0.00799</td>\n",
       "    </tr>\n",
       "    <tr>\n",
       "      <th id=\"T_cf5d3_level0_row4\" class=\"row_heading level0 row4\" >Row totals</th>\n",
       "      <td id=\"T_cf5d3_row4_col0\" class=\"data row4 col0\" >78497.91267</td>\n",
       "    </tr>\n",
       "  </tbody>\n",
       "</table>\n"
      ],
      "text/plain": [
       "<pandas.io.formats.style.Styler at 0x7fef1ad348d0>"
      ]
     },
     "execution_count": 78,
     "metadata": {},
     "output_type": "execute_result"
    }
   ],
   "source": [
    "totals = pd.DataFrame(df.sum(), columns=[\"Column totals\"])\n",
    "totals.style.format(precision=5)"
   ]
  },
  {
   "cell_type": "markdown",
   "id": "4e8cba48",
   "metadata": {},
   "source": [
    "It's interesting that even with over 2 million zeros, the total is only accurate to one decimal place: it's about 0.09 away from the value of $\\pi(1,000,000)$ of 78498.\n",
    "\n",
    "The calculation in the book has a closer agreement, which suggests more than 2 million zeros were used. (The author doesn't say how many were used.)"
   ]
  },
  {
   "cell_type": "code",
   "execution_count": null,
   "id": "de8d9977",
   "metadata": {},
   "outputs": [],
   "source": []
  }
 ],
 "metadata": {
  "kernelspec": {
   "display_name": "Python 3 (ipykernel)",
   "language": "python",
   "name": "python3"
  },
  "language_info": {
   "codemirror_mode": {
    "name": "ipython",
    "version": 3
   },
   "file_extension": ".py",
   "mimetype": "text/x-python",
   "name": "python",
   "nbconvert_exporter": "python",
   "pygments_lexer": "ipython3",
   "version": "3.7.10"
  }
 },
 "nbformat": 4,
 "nbformat_minor": 5
}
